{
  "nbformat": 4,
  "nbformat_minor": 0,
  "metadata": {
    "colab": {
      "provenance": []
    },
    "kernelspec": {
      "name": "python3",
      "display_name": "Python 3"
    },
    "language_info": {
      "name": "python"
    }
  },
  "cells": [
    {
      "cell_type": "markdown",
      "source": [
        "1.**Collecting Nigerian Government Securities Data:** <br>\n",
        "We will use data from the Debt Management Office Nigeria for FGN Bonds, Treasury Bills, and Open Market Operations (OMO) securities. The maturities range from short-term (6 months) to long-term (20–30 years).\n",
        "\n",
        "        Example Data (from sources➡️www.dmo.gov.ng)\n",
        "        Security Type         | Maturity (Years)    | Yield (%)\n",
        "        Treasury Bill       \t   0.5\t                   5.2\n",
        "        Treasury Bill           \t1\t                     5.5\n",
        "        OMO Bill\t                2\t                     6.0\n",
        "        FGN Bond\t                5\t                     7.2\n",
        "        FGN Bond\t               10                         8.0\n",
        "        FGN Bond\t               20\t                     9.5\n",
        "        FGN Bond\t               30\t                     10.0\n",
        "\n",
        "**2. Yield Curve Modeling**\n",
        "\n",
        "Fitting the Nelson-Siegel Model\n",
        "The Nelson-Siegel model is defined as:"
      ],
      "metadata": {
        "id": "nIaNxejkjccu"
      }
    },
    {
      "cell_type": "code",
      "source": [
        "import numpy as np\n",
        "import pandas as pd\n",
        "from scipy.optimize import curve_fit\n",
        "\n",
        "# Real Nigerian data (from sources: ➡️www.dmo.gov.ng)\n",
        "maturities = np.array([0.5, 1, 2, 5, 10, 20, 30])\n",
        "yields = np.array([5.2, 5.5, 6.0, 7.2, 8.0, 9.5, 10.0])  # Example rates\n",
        "\n",
        "# Nelson-Siegel function\n",
        "def nelson_siegel(t, beta0, beta1, beta2, tau):\n",
        "    return beta0 + beta1 * ((1 - np.exp(-t/tau)) / (t/tau)) + beta2 * (((1 - np.exp(-t/tau)) / (t/tau)) - np.exp(-t/tau))\n",
        "\n",
        "# Fit the model\n",
        "params, _ = curve_fit(nelson_siegel, maturities, yields, p0=[5, -1, 1, 2])\n",
        "beta0, beta1, beta2, tau = params\n",
        "\n",
        "print(f\"Estimated Parameters: Beta0={beta0}, Beta1={beta1}, Beta2={beta2}, Tau={tau}\")"
      ],
      "metadata": {
        "id": "sf2G0Cp8j-SN"
      },
      "execution_count": null,
      "outputs": []
    },
    {
      "cell_type": "markdown",
      "source": [
        "**3. Fitting a Cubic-Spline Model**<br>\n",
        "A Cubic-Spline model provides a more flexible fit:"
      ],
      "metadata": {
        "id": "-J9gI9hinByK"
      }
    },
    {
      "cell_type": "code",
      "source": [
        "from scipy.interpolate import CubicSpline\n",
        "import matplotlib.pyplot as plt\n",
        "\n",
        "# Fit cubic spline\n",
        "spline = CubicSpline(maturities, yields)\n",
        "\n",
        "# Plot results\n",
        "x_vals = np.linspace(0.5, 30, 100)\n",
        "plt.plot(maturities, yields, 'o', label=\"Observed Yields\")\n",
        "plt.plot(x_vals, spline(x_vals), label=\"Cubic Spline Fit\")\n",
        "plt.legend()\n",
        "plt.xlabel(\"Maturity (Years)\")\n",
        "plt.ylabel(\"Yield (%)\")\n",
        "plt.title(\"Cubic-Spline Yield Curve Fit\")\n",
        "plt.show()"
      ],
      "metadata": {
        "id": "LIucbbsgjeUY"
      },
      "execution_count": null,
      "outputs": []
    },
    {
      "cell_type": "code",
      "source": [],
      "metadata": {
        "id": "ILa6pWrvnJMU"
      },
      "execution_count": null,
      "outputs": []
    }
  ]
}