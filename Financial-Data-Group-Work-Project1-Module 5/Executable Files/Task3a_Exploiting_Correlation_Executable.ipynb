{
  "nbformat": 4,
  "nbformat_minor": 0,
  "metadata": {
    "colab": {
      "provenance": []
    },
    "kernelspec": {
      "name": "python3",
      "display_name": "Python 3"
    },
    "language_info": {
      "name": "python"
    }
  },
  "cells": [
    {
      "cell_type": "markdown",
      "source": [
        "**3a. Exploiting Correlation**<br>\n",
        "Understanding the role that correlation and principal components play.<br>\n",
        "\n",
        "**a. Generating 5 Uncorrelated Gaussian Random Variables**<br>\n",
        "Under certain conditions, uncorrelated Gaussian random variables are independent of each other when they are together Gaussian, but this doesn't hold good when they are not together Gaussian (Wikipedia, 2025). In Python, this can be simulated using NumPy for uncorrelated changes in yield:"
      ],
      "metadata": {
        "id": "CCP7SZIjpF_r"
      }
    },
    {
      "cell_type": "code",
      "source": [
        "import numpy as np\n",
        "\n",
        "# Generate 5 uncorrelated random variables\n",
        "np.random.seed(42)  # Ensuring reproducibility\n",
        "yield_changes = np.random.normal(loc=0, scale=0.01, size=(100, 5))  # 100 observations, 5 variables\n",
        "print(yield_changes[:5])  # Preview first 5 rows"
      ],
      "metadata": {
        "id": "elQx6Ii0pTyV"
      },
      "execution_count": null,
      "outputs": []
    },
    {
      "cell_type": "markdown",
      "source": [
        "**b. Running Principal Component Analysis (PCA)**<br>\n",
        "In financial data science, PCA is considered to be one of the potent tools given its relation to dimensionality reduction and feature selection. (IntechOpen, 2025): You can use PCA with Python."
      ],
      "metadata": {
        "id": "29RtoDgnqdMf"
      }
    },
    {
      "cell_type": "code",
      "source": [
        "from sklearn.decomposition import PCA\n",
        "\n",
        "# Compute correlation matrix\n",
        "pca = PCA()\n",
        "principal_components = pca.fit_transform(yield_changes)\n",
        "\n",
        "# Explained variance ratio\n",
        "print(pca.explained_variance_ratio_)"
      ],
      "metadata": {
        "id": "d02eF5awpcZ2"
      },
      "execution_count": null,
      "outputs": []
    },
    {
      "cell_type": "markdown",
      "source": [
        "**c. Variance Explained by Each Component**<br>\n",
        "\n",
        "In general, the first principal component explains the largest share of variance, followed by the other subsequent components. PCA is used in financial applications for risk management and portfolio optimization (Accountend, 2025). A typical breakdown may be:\n",
        "\n",
        "**Component 1:** Approximately 26% of the total variance.\n",
        "\n",
        "**Component 2:** About 21%.\n",
        "\n",
        "**Component 3:** Around 20%.\n",
        "\n",
        "Remaining components: Account for very little variance."
      ],
      "metadata": {
        "id": "f3zZyP4tq9Oc"
      }
    },
    {
      "cell_type": "markdown",
      "source": [
        "**d. Scree Plot**<br>\n",
        "The presented scree plot shows what proportion of each component contributes to the variation within each component, useful in determining the number of latent factors to retain (Statistics Globe 2025)."
      ],
      "metadata": {
        "id": "3vqxxhTVrd8B"
      }
    },
    {
      "cell_type": "code",
      "source": [
        "import matplotlib.pyplot as plt\n",
        "\n",
        "plt.plot(range(1, 6), pca.explained_variance_ratio_, marker='o')\n",
        "plt.xlabel(\"Principal Component\")\n",
        "plt.ylabel(\"Explained Variance\")\n",
        "plt.title(\"Scree Plot\")\n",
        "plt.show()"
      ],
      "metadata": {
        "id": "plU400HxqkIa"
      },
      "execution_count": null,
      "outputs": []
    },
    {
      "cell_type": "code",
      "source": [],
      "metadata": {
        "id": "ePHP7c-tryx9"
      },
      "execution_count": null,
      "outputs": []
    }
  ]
}