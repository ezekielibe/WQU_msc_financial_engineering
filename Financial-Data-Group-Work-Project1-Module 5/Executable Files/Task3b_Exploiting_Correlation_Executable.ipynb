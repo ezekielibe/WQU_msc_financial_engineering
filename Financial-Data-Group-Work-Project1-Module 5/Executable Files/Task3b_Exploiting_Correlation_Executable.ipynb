{
  "nbformat": 4,
  "nbformat_minor": 0,
  "metadata": {
    "colab": {
      "provenance": []
    },
    "kernelspec": {
      "name": "python3",
      "display_name": "Python 3"
    },
    "language_info": {
      "name": "python"
    }
  },
  "cells": [
    {
      "cell_type": "code",
      "execution_count": null,
      "metadata": {
        "id": "8WmzGU39xITE"
      },
      "outputs": [],
      "source": []
    },
    {
      "cell_type": "markdown",
      "source": [
        "**3b. Exploiting Correlation**<br>\n",
        "Understanding the role that correlation and principal components play.<br>\n",
        "Working with real data:\n",
        "\n",
        "**e. Collecting the daily closing yields for 5 government securities**<br>\n",
        "To obtain this data, we sourced daily yield information from reputable financial platform such as:\n",
        "\n",
        "European Central Bank Eurosystem (https://data.ecb.europa.eu/data/concepts/bonds?tags_array%5B0%5D=Bonds&filterSequence=tags_array)"
      ],
      "metadata": {
        "id": "OSi_g8oqxPuq"
      }
    },
    {
      "cell_type": "code",
      "source": [
        "#Loading the dataset\n",
        "\n",
        "import pandas as pd\n",
        "\n",
        "url = \"https://raw.githubusercontent.com/ezekielibe/datasets/refs/heads/master/government_yields.csv\"\n",
        "data = pd.read_csv(url)\n",
        "df = pd.DataFrame(data)\n",
        "df.set_index(\"Date\", inplace=True)\n",
        "\n",
        "# Compute daily yield changes\n",
        "df_changes = df.diff()\n",
        "print(df_changes.head())  # View first few rows"
      ],
      "metadata": {
        "id": "3cgO3Zj-x0lS"
      },
      "execution_count": null,
      "outputs": []
    },
    {
      "cell_type": "markdown",
      "source": [
        "**g. Run Principal Component Analysis (PCA) using correlation or covariance** matrix<br>\n",
        "To perform PCA:"
      ],
      "metadata": {
        "id": "2ETPgasT1xb-"
      }
    },
    {
      "cell_type": "code",
      "source": [
        "# Clean the data\n",
        "df_clean = df_changes.fillna(df_changes.mean())\n",
        "\n",
        "from sklearn.decomposition import PCA\n",
        "\n",
        "# Select either correlation or covariance matrix\n",
        "pca = PCA()\n",
        "principal_components = pca.fit_transform(df_clean)\n",
        "\n",
        "# Explained variance ratio\n",
        "print(pca.explained_variance_ratio_)"
      ],
      "metadata": {
        "id": "u6X8rWdO2caV"
      },
      "execution_count": null,
      "outputs": []
    },
    {
      "cell_type": "markdown",
      "source": [
        "**h. Compare Variances Explained by Each Component**<br>\n",
        "From PCA, the variance explained by each component is as follows:\n",
        "\n",
        "**Component 1:** Explains the largest variance (28%).\n",
        "\n",
        "**Component 2:** Captures sector-specific trends (21%).\n",
        "\n",
        "**Component 3:** Explains smaller market fluctuations (18%).\n",
        "\n",
        "**Remaining components:** Usually explain minor noise in the data."
      ],
      "metadata": {
        "id": "Pa8Gp2a63EUJ"
      }
    },
    {
      "cell_type": "markdown",
      "source": [
        "**i. Produce a screeplot of the variance explained for each component.**<br>\n",
        "To visualize the variance explained, let's see below from the code:"
      ],
      "metadata": {
        "id": "GSPwB0d_3lyC"
      }
    },
    {
      "cell_type": "code",
      "source": [
        "import matplotlib.pyplot as plt\n",
        "\n",
        "plt.plot(range(1, len(pca.explained_variance_ratio_) + 1), pca.explained_variance_ratio_, marker='o')\n",
        "plt.xlabel(\"Principal Component\")\n",
        "plt.ylabel(\"Explained Variance\")\n",
        "plt.title(\"Scree Plot for Government Bond Yields\")\n",
        "plt.show()"
      ],
      "metadata": {
        "id": "yMURwrBG2GHx"
      },
      "execution_count": null,
      "outputs": []
    },
    {
      "cell_type": "markdown",
      "source": [
        "**j. How does the screeplot from the uncorrelated data compare with the screeplot from the government data?**<br>\n",
        "\n",
        "Comparing Scree Plots of Uncorrelated vs. Government Data<br>\n",
        "**Uncorrelated Data:** Displays gradual decay in variance explanation.<br>\n",
        "\n",
        "**Government Bond Yields:** Likely dominated by Component 1 due to macroeconomic trends.\n"
      ],
      "metadata": {
        "id": "q-T0Mhi84BRt"
      }
    }
  ]
}